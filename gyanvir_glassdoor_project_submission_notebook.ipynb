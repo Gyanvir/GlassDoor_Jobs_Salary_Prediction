{
 "cells": [
  {
   "cell_type": "markdown",
   "id": "2cdcaddd-ccea-45f3-8e7a-5335c1277586",
   "metadata": {},
   "source": [
    "# **Project Name**    - Glassdoor Jobs Salary Prediction\n",
    "\n",
    "\n"
   ]
  },
  {
   "cell_type": "markdown",
   "id": "e0e41502-736a-48d7-bf7e-a2a722aca441",
   "metadata": {},
   "source": [
    "##### **Project Type**    - Supervised Regression\n",
    "##### **Contribution**    - Individual- Gyanvir Singh\n"
   ]
  },
  {
   "cell_type": "markdown",
   "id": "d0cc56d5-1dee-4c04-b4d8-5535cd9595f0",
   "metadata": {},
   "source": [
    "# **Project Summary -**"
   ]
  },
  {
   "cell_type": "markdown",
   "id": "6d8af7e7-f4da-426f-a301-e3dc80bf2d1a",
   "metadata": {},
   "source": [
    "This project focuses on understanding and predicting salaries based on job listings and company-related information. The primary aim was to analyze patterns in salary distribution and build a model capable of predicting average salaries using features like job type, company size, location, industry, and rating. The dataset included job postings from various companies, with details such as estimated salary ranges, employer-provided salary flags, and categorical information like sector, ownership type, and state.\n",
    "\n",
    "The first step involved cleaning the dataset by removing or transforming unclear values, encoding categorical variables, and scaling numerical features. We also explored the skewness of data and handled it selectively, only where it improved the model's effectiveness. Feature selection was guided by correlation and tree-based importance scores. Initial visual analysis revealed that average salaries varied significantly with company size, job type, and location. For example, both very large and very small companies offered relatively higher salaries compared to mid-sized firms, and California-based jobs had generally higher salary averages.\n",
    "\n",
    "We trained two models—Linear Regression and Random Forest—to predict salaries. While Linear Regression gave us a baseline with low predictive power (R² ≈ 0.15), Random Forest significantly outperformed it with an R² of around 0.67. Feature importance scores from Random Forest indicated that hourly jobs, job state, company rating, and industry were among the most influential variables. Hyperparameter tuning was also performed, although the tuned model slightly underperformed compared to the default in terms of R², indicating that the original settings may have generalized better for this dataset.\n",
    "\n",
    "We addressed the core objectives of the project by successfully building a salary prediction model, visualizing how average salary varies by company size, identifying the top predictive features, and evaluating different models to recommend the best-performing one. This approach not only enables accurate salary prediction but also helps in understanding what truly drives compensation differences in job markets.\n",
    "\n",
    "Future improvements could involve incorporating textual data from job descriptions, using deep learning or NLP-based models, and deploying the solution as an interactive web application. This would make it easier for job seekers or HR departments to use the model for salary benchmarking and decision-making.\n"
   ]
  },
  {
   "cell_type": "markdown",
   "id": "f1645a80-730d-455c-bc3a-71972c20b6f2",
   "metadata": {},
   "source": [
    "**Key impacts:**\n",
    "1. Informed Salary Benchmarking:\n",
    "    - Companies and job seekers can better understand how different factors—like company size, location, and industry—impact salary expectations, allowing for more data-driven negotiations and job decisions.\n",
    "1. Accurate Salary Prediction Model:\n",
    "    - With Random Forest achieving a strong R² score, the model provides a reliable way to estimate salaries for new job listings, helping employers set competitive offers and job seekers evaluate offers realistically.\n",
    "1. Feature Transparency for HR Teams:\n",
    "    - The model highlights key drivers of salary (e.g., job type, state, and company rating), giving HR and compensation teams clear direction on what influences pay the most across different job roles."
   ]
  },
  {
   "cell_type": "markdown",
   "id": "6007611b-fd78-4b11-b4d7-3f2647783376",
   "metadata": {},
   "source": [
    "# **GitHub Link -**"
   ]
  },
  {
   "cell_type": "markdown",
   "id": "3813759d-908d-4c87-8dc0-2aef2a8b89d1",
   "metadata": {},
   "source": [
    "https://github.com/Gyanvir/GlassDoor_Jobs_Salary_Prediction"
   ]
  },
  {
   "cell_type": "markdown",
   "id": "1cb73fde-2a79-4999-90c1-067cc2ba2ebc",
   "metadata": {},
   "source": [
    "# **Problem Statement**\n"
   ]
  },
  {
   "cell_type": "markdown",
   "id": "c72370db-4964-4b22-8561-ebace4cdb516",
   "metadata": {},
   "source": [
    "The goal of this project is to develop a data-driven solution that can help both job seekers and employers make more informed decisions regarding salary expectations. Using job listing data, we aim to:\n",
    "1. Understand how different job-related factors—such as company size, industry, location, and employer ratings—affect salary offerings.\n",
    "1. Analyze and visualize the relationship between company size and average salary to uncover any meaningful patterns.\n",
    "1. Identify the most influential features in determining salary, using statistical and model-based techniques.\n",
    "1. Build and evaluate a machine learning model that can accurately predict a job’s average salary based on available features.\n",
    "\n",
    "This analysis is intended to support salary transparency, help with fair compensation planning, and enable smarter decision-making in the hiring ecosystem."
   ]
  },
  {
   "cell_type": "markdown",
   "id": "649131f2-9591-4969-8dc3-5b9879325924",
   "metadata": {},
   "source": [
    "# **Chart Descriptions**\n"
   ]
  },
  {
   "cell_type": "markdown",
   "id": "fbc926f8-1a0e-4bd6-962a-4c0960b39488",
   "metadata": {},
   "source": [
    "**Chart 1 – Distribution of Average Salary**\n",
    "\n",
    "Why this chart?\n",
    "    To understand overall salary spread across job listings.\n",
    "    \n",
    "Insights:\n",
    "    Helps detect outliers, skewness, and median salary.\n",
    "    \n",
    "Business Impact:\n",
    "    - Gives stakeholders a benchmark for market salary expectations."
   ]
  },
  {
   "cell_type": "markdown",
   "id": "c2a3dd8b-2500-4db2-bae7-108112425aeb",
   "metadata": {},
   "source": [
    "**Chart 2 – Job Title Frequency**\n",
    "\n",
    "Why this chart?\n",
    "To see which roles are most in-demand.\n",
    "\n",
    "Insights:\n",
    "Reveals hiring patterns and skill trends.\n",
    "\n",
    "Business Impact:\n",
    "Useful for job seekers or companies expanding their hiring."
   ]
  },
  {
   "cell_type": "markdown",
   "id": "ba2c8dba-db04-45f9-818f-899688a7ea26",
   "metadata": {},
   "source": [
    "**Chart 3 – Company Frequency**\n",
    "\n",
    "Why this chart?\n",
    "To identify top recruiters.\n",
    "\n",
    "Insights:\n",
    "Highlights market leaders in hiring.\n",
    "\n",
    "Business Impact:\n",
    "Job seekers can prioritize these companies."
   ]
  },
  {
   "cell_type": "markdown",
   "id": "c8223848-6689-4848-b318-e5231e3ffe7d",
   "metadata": {},
   "source": [
    "**Chart 4 – Revenue Categories**\n",
    "\n",
    "Why this chart?\n",
    "To explore the company size by revenue.\n",
    "\n",
    "Insights:\n",
    "Shows how many listings come from high vs. low revenue companies.\n",
    "\n",
    "Business Impact:\n",
    "Smaller firms may offer different roles or pay compared to larger ones."
   ]
  },
  {
   "cell_type": "markdown",
   "id": "b7699887-8d55-42e5-890e-2e1c5b01c052",
   "metadata": {},
   "source": [
    "**Chart 5 – Job States Frequency**\n",
    "\n",
    "Why this chart?\n",
    "To see geographic job distribution.\n",
    "\n",
    "Insights:\n",
    "Reveals which states have highest job demand.\n",
    "\n",
    "Business Impact:\n",
    "Useful for relocation decisions or regional hiring strategies."
   ]
  },
  {
   "cell_type": "markdown",
   "id": "b7da19e2-5a80-43e5-bae2-e90e5aa70a5a",
   "metadata": {},
   "source": [
    "**Chart 6 – Average Salary by Job State**\n",
    "\n",
    "Why this chart?\n",
    "To identify high-paying states.\n",
    "\n",
    "Insights:\n",
    "Helps assess geographic salary trends.\n",
    "\n",
    "Business Impact:\n",
    "Useful for strategic hiring or relocation planning."
   ]
  },
  {
   "cell_type": "markdown",
   "id": "8515736c-cb69-41a6-a086-0a89b47443f8",
   "metadata": {},
   "source": [
    "**Chart 7 – Salary vs. Company Rating**\n",
    "\n",
    "Why this chart?\n",
    "To see if better-rated companies pay more.\n",
    "\n",
    "Insights:\n",
    "Mild trends may emerge; can find high-paying low-rated outliers too.\n",
    "\n",
    "Business Impact:\n",
    "Can guide job seekers on trade-offs between rating and salary."
   ]
  },
  {
   "cell_type": "markdown",
   "id": "c5af5482-158b-4ace-ba9a-ea84cd1e1318",
   "metadata": {},
   "source": [
    "**Chart 8 – Boxplot: Salary by Company Ownership**\n",
    "\n",
    "Why this chart?\n",
    "To compare salary ranges across private, public, non-profits, etc.\n",
    "\n",
    "Insights:\n",
    "Reveals variability in salaries per ownership category.\n",
    "\n",
    "Business Impact:\n",
    "Useful for understanding compensation philosophy across org types."
   ]
  },
  {
   "cell_type": "markdown",
   "id": "616fee20-952d-4475-af02-8301595da7fd",
   "metadata": {},
   "source": [
    "**Chart 9 – Countplot: Same-State Job vs HQ**\n",
    "\n",
    "Why this chart?\n",
    "To analyze co-location of job listings with company HQs.\n",
    "\n",
    "Insights:\n",
    "Shows how often jobs are remote or in other branches.\n",
    "\n",
    "Business Impact:\n",
    "Useful for remote work policy planning or facility expansion."
   ]
  },
  {
   "cell_type": "markdown",
   "id": "4715fe9c-9f6e-4e91-89dd-33a7f584f874",
   "metadata": {},
   "source": [
    "**Chart 10 – Salary by Competitor Info**\n",
    "\n",
    "Why this chart?\n",
    "Tests whether companies that reveal competitors pay differently.\n",
    "\n",
    "Insights:\n",
    "Can be a proxy for company transparency or maturity.\n",
    "\n",
    "Business Impact:\n",
    "Could imply openness vs. secrecy in salary benchmarking."
   ]
  },
  {
   "cell_type": "markdown",
   "id": "779136c6-fefc-446c-97a0-0bd17730d989",
   "metadata": {},
   "source": [
    "**Chart 11 – Salary vs. Rating Across Job States**\n",
    "\n",
    "Why this chart?\n",
    "To observe how salary-rating relationships differ across locations.\n",
    "\n",
    "Insights:\n",
    "Can reveal regional differences in pay fairness or compensation strategy.\n",
    "\n",
    "Business Impact:\n",
    "Useful for salary benchmarking across states and employer types."
   ]
  },
  {
   "cell_type": "markdown",
   "id": "e71f3da9-1dd8-417f-99e3-ef0467a369f4",
   "metadata": {},
   "source": [
    "**Chart 12 – Count of Jobs by Revenue and Ownership**\n",
    "\n",
    "Why this chart?\n",
    "To explore the intersection between company size and ownership.\n",
    "\n",
    "Insights:\n",
    "Shows where most jobs are concentrated—large private or small public firms?\n",
    "\n",
    "Business Impact:\n",
    "Helps forecast which types of companies are scaling hiring efforts."
   ]
  },
  {
   "cell_type": "markdown",
   "id": "73630d74-3ea8-435f-8eb6-4465f2cc87ab",
   "metadata": {},
   "source": [
    "**Chart 13 – Boxplot of Salary vs. State and Revenue**\n",
    "\n",
    "Why this chart?\n",
    "To see how salary varies by both location and company revenue.\n",
    "\n",
    "Insights:\n",
    "California pays high and even small firms do that.\n",
    "\n",
    "Business Impact:\n",
    "Aids decision-makers in setting pay structures based on geography + scale."
   ]
  },
  {
   "cell_type": "markdown",
   "id": "3234cd4e-9bb0-43e8-8a7f-4ca54f2a0b40",
   "metadata": {},
   "source": [
    "**Chart 14 – Heatmap: Correlation Between All Numeric Features**\n",
    "\n",
    "Why this chart?\n",
    "To find strong feature interactions.\n",
    "\n",
    "Insights:\n",
    "Shows how salary relates to rating, competitor info, etc.\n",
    "\n",
    "Business Impact:\n",
    "Can guide feature selection in modeling."
   ]
  },
  {
   "cell_type": "markdown",
   "id": "4dc0fb33-33fc-49be-8710-dfad0dd040cd",
   "metadata": {},
   "source": [
    "**Chart 15 – Pairplot of Key Features**\n",
    "\n",
    "Why this chart?\n",
    "To visualize bivariate relationships in compact form.\n",
    "\n",
    "Insights:\n",
    "Detects potential clustering or correlations visually.\n",
    "\n",
    "Business Impact:\n",
    "Good sanity check before modeling."
   ]
  },
  {
   "cell_type": "markdown",
   "id": "00748d7d-4226-47f9-900d-ea163b8b43f4",
   "metadata": {},
   "source": [
    "# **Model Selections**\n"
   ]
  },
  {
   "cell_type": "markdown",
   "id": "ee023fe3-6b59-4c45-9875-b172e6ab5d3d",
   "metadata": {},
   "source": [
    "### Linear Regression\n",
    "\n",
    "**Model Explanation:**  \n",
    "Linear Regression is a simple, interpretable algorithm that assumes a linear relationship between the input features and the target variable (average salary). It's often used as a baseline model in regression problems.\n",
    "\n",
    "**Performance:**  \n",
    "- **MSE (Mean Squared Error):** ~1087.94  \n",
    "- **R² Score:** ~0.15  \n",
    "\n",
    "These metrics suggest that the model performs poorly, capturing very little variance in the data. The assumption of linearity likely doesn't hold well for this dataset, and the model struggles to generalize.\n",
    "\n",
    "**Business Interpretation:**  \n",
    "While Linear Regression is easy to understand and implement, its poor performance indicates that the salary structure is not linearly related to the features. Hence, relying on this model for salary prediction in a real-world business scenario could lead to inaccurate estimates and misinformed decisions.\n"
   ]
  },
  {
   "cell_type": "markdown",
   "id": "89ec0c13-9240-4c2b-85fc-711c180cf97c",
   "metadata": {},
   "source": [
    "### 2. Random Forest Regressor\n",
    "\n",
    "**Model Explanation:**  \n",
    "Random Forest is an ensemble learning method that builds multiple decision trees and averages their results for regression tasks. It can capture complex, non-linear relationships and automatically handles feature interactions.\n",
    "\n",
    "**Performance (Before Tuning):**  \n",
    "- **MSE:** ~425.03  \n",
    "- **R² Score:** ~0.67  \n",
    "\n",
    "**Performance (After Hyperparameter Tuning):**  \n",
    "- **MSE:** ~460-480  \n",
    "- **R² Score:** ~0.62-0.63  \n",
    "\n",
    "The untuned model surprisingly performed slightly better, showing that even default hyperparameters provide strong results.\n",
    "\n",
    "**Business Interpretation:**  \n",
    "Random Forest provides significantly better predictive performance, suggesting it captures non-linear salary trends influenced by factors such as job state, rating, or industry. From a business standpoint, this model can offer more reliable salary predictions, supporting HR teams in decision-making, job seekers in setting expectations, and platforms in automating compensation analytics.\n",
    "\n",
    "---\n",
    "\n",
    "**Final Selection:**  \n",
    "Given its superior performance and robustness, the **Random Forest Regressor** (untuned) is selected as the final model for salary prediction in this project.\n"
   ]
  }
 ],
 "metadata": {
  "kernelspec": {
   "display_name": "Python 3 (ipykernel)",
   "language": "python",
   "name": "python3"
  },
  "language_info": {
   "codemirror_mode": {
    "name": "ipython",
    "version": 3
   },
   "file_extension": ".py",
   "mimetype": "text/x-python",
   "name": "python",
   "nbconvert_exporter": "python",
   "pygments_lexer": "ipython3",
   "version": "3.12.4"
  }
 },
 "nbformat": 4,
 "nbformat_minor": 5
}
